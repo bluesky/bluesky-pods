{
 "cells": [
  {
   "cell_type": "code",
   "execution_count": 1,
   "id": "e0cda08e-d36d-4212-ba18-8fb474ce2161",
   "metadata": {},
   "outputs": [],
   "source": [
    "from tiled.client import from_uri\n",
    "import importlib\n",
    "import numpy as np\n",
    "import matplotlib.pyplot as plt\n",
    "c = from_uri(\"http://tld:8000\")"
   ]
  },
  {
   "cell_type": "code",
   "execution_count": 2,
   "id": "67dfa592-e924-49ad-9bf4-dc0488fd85d2",
   "metadata": {},
   "outputs": [],
   "source": [
    "def find_latest():\n",
    "    keys= list(c.keys())\n",
    "    for key in keys[::-1]:\n",
    "        if \"tell\" in c[key]:\n",
    "            return c[key]"
   ]
  },
  {
   "cell_type": "markdown",
   "id": "0dac5d8a-4f2d-4338-9bda-b18d191c6977",
   "metadata": {},
   "source": [
    "## Grab A Run"
   ]
  },
  {
   "cell_type": "code",
   "execution_count": 3,
   "id": "1ff93edb-722b-4734-95ed-beb3621eccc9",
   "metadata": {},
   "outputs": [],
   "source": [
    "run = find_latest()"
   ]
  },
  {
   "cell_type": "code",
   "execution_count": 4,
   "id": "4b7d5216-af75-495a-9a74-fbedfc59605f",
   "metadata": {},
   "outputs": [
    {
     "data": {
      "text/plain": [
       "{'start': {'agent_name': 'ActiveKMeans-litter-walk',\n",
       "           'model_params': {'algorithm': 'lloyd',\n",
       "                            'copy_x': True,\n",
       "                            'init': 'k-means++',\n",
       "                            'max_iter': 300,\n",
       "                            'n_clusters': 3,\n",
       "                            'n_init': 'auto',\n",
       "                            'random_state': None,\n",
       "                            'tol': 0.0001,\n",
       "                            'verbose': 0},\n",
       "           'model_type': 'KMeans',\n",
       "           'motor_names': ['wafer_x', 'wafer_y'],\n",
       "           'motor_resolution': 0.1,\n",
       "           'time': 1719162350.2816348,\n",
       "           'uid': '78b1652d-6292-437b-b1b1-be31fac8dfed'},\n",
       " 'stop': None,\n",
       " 'summary': {'datetime': datetime.datetime(2024, 6, 23, 17, 5, 50, 281635, tzinfo=datetime.timezone.utc),\n",
       "             'duration': None,\n",
       "             'plan_name': None,\n",
       "             'scan_id': None,\n",
       "             'stream_names': ['ask', 'report', 'tell'],\n",
       "             'timestamp': 1719162350.2816348,\n",
       "             'uid': '78b1652d-6292-437b-b1b1-be31fac8dfed'}}"
      ]
     },
     "execution_count": 4,
     "metadata": {},
     "output_type": "execute_result"
    }
   ],
   "source": [
    "run.metadata"
   ]
  },
  {
   "cell_type": "code",
   "execution_count": 5,
   "id": "6b421662-cf60-490c-9232-ed20b3ee07bb",
   "metadata": {},
   "outputs": [
    {
     "data": {
      "text/plain": [
       "<Container {'ask', 'report', 'tell'}>"
      ]
     },
     "execution_count": 5,
     "metadata": {},
     "output_type": "execute_result"
    }
   ],
   "source": [
    "run"
   ]
  },
  {
   "cell_type": "code",
   "execution_count": 6,
   "id": "b3d02c89-9330-4a03-a0fb-96378b738400",
   "metadata": {},
   "outputs": [
    {
     "data": {
      "text/plain": [
       "<DatasetClient ['time', 'suggestion', 'cluster_centers', 'cache_len', 'latest_data', 'requested_batch_size', 'redundant_points_discarded', 'absolute_position_offset', 'batch_idx', 'batch_size']>"
      ]
     },
     "execution_count": 6,
     "metadata": {},
     "output_type": "execute_result"
    }
   ],
   "source": [
    "run['ask']['data']"
   ]
  },
  {
   "cell_type": "code",
   "execution_count": 7,
   "id": "9a015899-cf7c-4707-a99e-01b34efa4f01",
   "metadata": {},
   "outputs": [
    {
     "data": {
      "text/plain": [
       "<DatasetClient ['time', 'cluster_centers', 'cache_len', 'latest_data']>"
      ]
     },
     "execution_count": 7,
     "metadata": {},
     "output_type": "execute_result"
    }
   ],
   "source": [
    "run['report']['data']"
   ]
  },
  {
   "cell_type": "code",
   "execution_count": 8,
   "id": "b6bea2d6-49cf-406e-9c3e-24f27c7206a3",
   "metadata": {},
   "outputs": [
    {
     "data": {
      "text/plain": [
       "<matplotlib.collections.PathCollection at 0xffff3037cf90>"
      ]
     },
     "execution_count": 8,
     "metadata": {},
     "output_type": "execute_result"
    },
    {
     "data": {
      "image/png": "[encoded data removed]",
      "text/plain": [
       "<Figure size 640x480 with 1 Axes>"
      ]
     },
     "metadata": {},
     "output_type": "display_data"
    }
   ],
   "source": [
    "plt.scatter(*run['ask']['data']['suggestion'].read().T)"
   ]
  },
  {
   "cell_type": "code",
   "execution_count": 9,
   "id": "27f69c89-d3a7-4407-85a6-e7b8c49bab13",
   "metadata": {},
   "outputs": [
    {
     "data": {
      "text/plain": [
       "array([[6.17641388e-05, 3.16242476e-05, 2.00909127e-05, ...,\n",
       "        3.15805971e-04, 2.61277059e-04, 2.03247551e-04],\n",
       "       [2.20478741e-04, 2.29073885e-04, 3.31117452e-04, ...,\n",
       "        9.08109043e-04, 7.23876568e-04, 5.34234936e-04],\n",
       "       [1.05604582e-03, 8.77067985e-04, 9.54675172e-04, ...,\n",
       "        1.72043248e-03, 1.33196916e-03, 9.44325474e-04]])"
      ]
     },
     "execution_count": 9,
     "metadata": {},
     "output_type": "execute_result"
    }
   ],
   "source": [
    "run['ask']['data']['cluster_centers'][-1]"
   ]
  },
  {
   "cell_type": "code",
   "execution_count": null,
   "id": "0efcc960-af78-4be7-a6ec-5aa11356349b",
   "metadata": {},
   "outputs": [],
   "source": []
  },
  {
   "cell_type": "markdown",
   "id": "0febfb9e-ad1d-47d0-9f0f-024274f658cf",
   "metadata": {},
   "source": [
    "## That plot wasn't SUPER informative. But we can remodel everything from a report."
   ]
  },
  {
   "cell_type": "code",
   "execution_count": 10,
   "id": "b86ef8a5-7056-4b98-a5e8-3ae315f27443",
   "metadata": {},
   "outputs": [],
   "source": [
    "def remodel_from_report(run, idx: int = None):\n",
    "        \"\"\"Grabs specified (or most recent) report document and rebuilds modelling of dataset at that point.\n",
    "\n",
    "        This enables fixed dimension reports that can be stacked and compared, while also allowing for\n",
    "        deep inspection at the time of a report.\n",
    "\n",
    "        Parameters\n",
    "        ----------\n",
    "        run : BlueskyRun\n",
    "            Agent Run\n",
    "        idx : int, optional\n",
    "            Report index, by default most recent\n",
    "\n",
    "        Returns\n",
    "        -------\n",
    "        model : SklearnEstimatorAgentBase\n",
    "        data : dict\n",
    "            Dictionary of model components, weights, independent_vars, and observables\n",
    "        \"\"\"\n",
    "        module_ = importlib.import_module(\"sklearn.cluster\")\n",
    "        model = getattr(module_, run.metadata['start'][\"model_type\"])().set_params(**run.metadata['start'][\"model_params\"])\n",
    "        idx = -1 if idx is None else idx\n",
    "        model.cluster_centers_ = run['report'][\"data\"][\"cluster_centers\"][idx]\n",
    "        latest_uid = run['report'][\"data\"][\"latest_data\"][idx]\n",
    "        tell_idx = np.where(run['tell'][\"data\"][\"exp_uid\"].read() == latest_uid)[0][-1]\n",
    "        \n",
    "        independents =  run['tell'][\"data\"][\"independent_variable\"][:tell_idx]\n",
    "        observables = run['tell'][\"data\"][\"observable\"][:tell_idx]\n",
    "        arr = observables\n",
    "\n",
    "        try:\n",
    "            clusters = model.predict(arr)\n",
    "            distances = model.transform(arr)\n",
    "        except AttributeError:\n",
    "            model.fit(arr)\n",
    "            model.cluster_centers_ = run['report'][\"data\"][\"cluster_centers\"][idx]\n",
    "            clusters = model.predict(arr)\n",
    "            distances = model.transform(arr)\n",
    "        return model, dict(\n",
    "            clusters=clusters,\n",
    "            distances=distances,\n",
    "            cluster_centers=model.cluster_centers_,\n",
    "            independent_vars=independents,\n",
    "            observables=observables,\n",
    "        )"
   ]
  },
  {
   "cell_type": "code",
   "execution_count": 11,
   "id": "28ad986d-3302-43b3-9e12-089f30042054",
   "metadata": {},
   "outputs": [],
   "source": [
    "model, data_dict = remodel_from_report(run)"
   ]
  },
  {
   "cell_type": "code",
   "execution_count": 12,
   "id": "e2abcc86-c984-413d-8110-077c31aad4f4",
   "metadata": {},
   "outputs": [
    {
     "data": {
      "text/plain": [
       "dict_keys(['clusters', 'distances', 'cluster_centers', 'independent_vars', 'observables'])"
      ]
     },
     "execution_count": 12,
     "metadata": {},
     "output_type": "execute_result"
    }
   ],
   "source": [
    "data_dict.keys()"
   ]
  },
  {
   "cell_type": "code",
   "execution_count": 13,
   "id": "8883801a-6906-42d1-bd62-a722d9abcd88",
   "metadata": {},
   "outputs": [],
   "source": [
    "def make_plot(data_dict):\n",
    "    independent_vars = data_dict[\"independent_vars\"]  # This should be an array with shape (m, 2)\n",
    "    clusters = data_dict[\"clusters\"]  # This should be an array with shape (m,)\n",
    "    fig = plt.figure(figsize=(8, 6))\n",
    "    scatter = plt.scatter(independent_vars[:, 0], independent_vars[:, 1], c=clusters, cmap='viridis', alpha=0.6)\n",
    "    plt.colorbar(scatter, label='Cluster')\n",
    "    plt.title('2D Plot of Independent Variables by Cluster')\n",
    "    plt.xlabel('Independent Var 1')\n",
    "    plt.ylabel('Independent Var 2')\n",
    "    return fig"
   ]
  },
  {
   "cell_type": "code",
   "execution_count": 14,
   "id": "c93cc479-f15a-4cba-98e7-8ac99d5aa295",
   "metadata": {},
   "outputs": [
    {
     "data": {
      "image/png": "[encoded data removed]",
      "text/plain": [
       "<Figure size 800x600 with 2 Axes>"
      ]
     },
     "metadata": {},
     "output_type": "display_data"
    }
   ],
   "source": [
    "fig = make_plot(data_dict)"
   ]
  },
  {
   "cell_type": "code",
   "execution_count": 15,
   "id": "cdf3ec82-cd1f-4cf7-bc1e-60814852f4b6",
   "metadata": {},
   "outputs": [
    {
     "data": {
      "text/plain": [
       "(33, 2)"
      ]
     },
     "execution_count": 15,
     "metadata": {},
     "output_type": "execute_result"
    }
   ],
   "source": [
    "data_dict[\"independent_vars\"].shape"
   ]
  }
 ],
 "metadata": {
  "kernelspec": {
   "display_name": "Python 3 (ipykernel)",
   "language": "python",
   "name": "python3"
  },
  "language_info": {
   "codemirror_mode": {
    "name": "ipython",
    "version": 3
   },
   "file_extension": ".py",
   "mimetype": "text/x-python",
   "name": "python",
   "nbconvert_exporter": "python",
   "pygments_lexer": "ipython3",
   "version": "3.11.9"
  }
 },
 "nbformat": 4,
 "nbformat_minor": 5
}
